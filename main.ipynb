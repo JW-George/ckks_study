{
 "cells": [
  {
   "cell_type": "markdown",
   "id": "b01857be-4e94-4bc9-9bf0-65d482f9ed20",
   "metadata": {},
   "source": [
    "---\n",
    "\n",
    "# CKKS Study\n",
    "### Revision 23.02.20\n",
    "\n",
    "---"
   ]
  },
  {
   "cell_type": "markdown",
   "id": "fa2a3733-b4da-4a31-8df6-716684d90057",
   "metadata": {},
   "source": [
    "## 1. Environment"
   ]
  },
  {
   "cell_type": "code",
   "execution_count": 1,
   "id": "752cc25f-705e-48dd-8004-bc4ad68e6dc4",
   "metadata": {},
   "outputs": [],
   "source": [
    "from ckks import CKKS\n",
    "import numpy as np"
   ]
  },
  {
   "cell_type": "markdown",
   "id": "06b100e7-85ea-460e-904b-918295ff587b",
   "metadata": {},
   "source": [
    "## 2. Initialize "
   ]
  },
  {
   "cell_type": "code",
   "execution_count": 2,
   "id": "a06056d2-b308-4329-ae7e-e0cfca6e4236",
   "metadata": {},
   "outputs": [],
   "source": [
    "M = 8\n",
    "scale = 64\n",
    "\n",
    "ckks2 = CKKS(M, scale)"
   ]
  },
  {
   "cell_type": "markdown",
   "id": "2c26b4fb-a21e-4f44-aeaf-508efc35b7df",
   "metadata": {},
   "source": [
    "## 3. Encode"
   ]
  },
  {
   "cell_type": "markdown",
   "id": "261cd829-23f3-452d-ac09-e83e1e3016ee",
   "metadata": {},
   "source": [
    "$$\n",
    "z_1 = (3+4i,\\ 2-i)\n",
    "$$"
   ]
  },
  {
   "cell_type": "code",
   "execution_count": 3,
   "id": "e4fa46c6-9518-4c12-af6d-75fffc9aeac6",
   "metadata": {},
   "outputs": [
    {
     "data": {
      "text/latex": [
       "$x \\mapsto \\text{160.0} + \\text{90.0}\\,x + \\text{160.0}\\,x^{2} + \\text{45.0}\\,x^{3}$"
      ],
      "text/plain": [
       "Polynomial([160.,  90., 160.,  45.], domain=[-1,  1], window=[-1,  1])"
      ]
     },
     "execution_count": 3,
     "metadata": {},
     "output_type": "execute_result"
    }
   ],
   "source": [
    "z1 = np.array([3 +4j, 2 - 1j])\n",
    "p1 = ckks2.encode(z1)\n",
    "p1"
   ]
  },
  {
   "cell_type": "markdown",
   "id": "4672d0a2-006e-4a45-a1c7-9d1d797c8615",
   "metadata": {},
   "source": [
    "$$\n",
    "z_2 = (2-3i,\\ 1+i)\n",
    "$$"
   ]
  },
  {
   "cell_type": "code",
   "execution_count": 4,
   "id": "8265be03-9170-4ce2-ac2d-a72c58f51a84",
   "metadata": {},
   "outputs": [
    {
     "data": {
      "text/latex": [
       "$x \\mapsto \\text{96.0} - \\text{23.0}\\,x - \\text{128.0}\\,x^{2} - \\text{68.0}\\,x^{3}$"
      ],
      "text/plain": [
       "Polynomial([  96.,  -23., -128.,  -68.], domain=[-1,  1], window=[-1,  1])"
      ]
     },
     "execution_count": 4,
     "metadata": {},
     "output_type": "execute_result"
    }
   ],
   "source": [
    "z2 = np.array([2-3j, 1 +1j])\n",
    "p2 = ckks2.encode(z2)\n",
    "p2"
   ]
  },
  {
   "cell_type": "markdown",
   "id": "cbccb399-f2fb-4a08-aa19-69352da2d67b",
   "metadata": {},
   "source": [
    "## 4. Encrypt"
   ]
  },
  {
   "cell_type": "markdown",
   "id": "6ad813f8-27fa-4baf-8fe0-370d39fcc3e9",
   "metadata": {},
   "source": [
    "$$\n",
    "c_1 = Encrypt(Encode(3+4i,\\ 2-i))\n",
    "$$"
   ]
  },
  {
   "cell_type": "code",
   "execution_count": 5,
   "id": "c0c2b21b-026b-4b7b-a276-01c5ae01f500",
   "metadata": {},
   "outputs": [],
   "source": [
    "c1 = ckks2.encrypt(p1)"
   ]
  },
  {
   "cell_type": "code",
   "execution_count": 6,
   "id": "8dd3418a-bfca-410d-ad7b-4854c0d7b0cf",
   "metadata": {},
   "outputs": [
    {
     "data": {
      "text/latex": [
       "$x \\mapsto \\text{974.0} - \\text{222.0}\\,x - \\text{882.0}\\,x^{2} - \\text{1641.0}\\,x^{3}$"
      ],
      "text/plain": [
       "Polynomial([  974.,  -222.,  -882., -1641.], domain=[-1.,  1.], window=[-1.,  1.])"
      ]
     },
     "execution_count": 6,
     "metadata": {},
     "output_type": "execute_result"
    }
   ],
   "source": [
    "c1['b']"
   ]
  },
  {
   "cell_type": "code",
   "execution_count": 7,
   "id": "5a7cb4fb-fd4f-44e8-b4b1-d75dd9053107",
   "metadata": {},
   "outputs": [
    {
     "data": {
      "text/latex": [
       "$x \\mapsto \\text{45.0} + \\text{66.0}\\,x + \\text{42.0}\\,x^{2} + \\text{80.0}\\,x^{3}$"
      ],
      "text/plain": [
       "Polynomial([45., 66., 42., 80.], domain=[-1.,  1.], window=[-1.,  1.])"
      ]
     },
     "execution_count": 7,
     "metadata": {},
     "output_type": "execute_result"
    }
   ],
   "source": [
    "c1['a']"
   ]
  },
  {
   "cell_type": "markdown",
   "id": "8e23942c-948d-4f53-90a1-7999ced4a575",
   "metadata": {},
   "source": [
    "$$\n",
    "c_2 = Encrypt(Encode(2-3i,1+i))\n",
    "$$"
   ]
  },
  {
   "cell_type": "code",
   "execution_count": 8,
   "id": "beedde11-f3c9-4fbe-8787-1e8088a7beb8",
   "metadata": {},
   "outputs": [],
   "source": [
    "c2 = ckks2.encrypt(p2)"
   ]
  },
  {
   "cell_type": "code",
   "execution_count": 9,
   "id": "e10be4bd-2fe5-415c-960e-abaf68685adb",
   "metadata": {},
   "outputs": [
    {
     "data": {
      "text/latex": [
       "$x \\mapsto \\text{237.0} - \\text{737.0}\\,x - \\text{1910.0}\\,x^{2} - \\text{1616.0}\\,x^{3}$"
      ],
      "text/plain": [
       "Polynomial([  237.,  -737., -1910., -1616.], domain=[-1.,  1.], window=[-1.,  1.])"
      ]
     },
     "execution_count": 9,
     "metadata": {},
     "output_type": "execute_result"
    }
   ],
   "source": [
    "c2['b']"
   ]
  },
  {
   "cell_type": "code",
   "execution_count": 10,
   "id": "23472044-436f-4499-847f-62f66d6adab5",
   "metadata": {},
   "outputs": [
    {
     "data": {
      "text/latex": [
       "$x \\mapsto \\text{90.0} + \\text{35.0}\\,x + \\text{99.0}\\,x^{2} + \\text{16.0}\\,x^{3}$"
      ],
      "text/plain": [
       "Polynomial([90., 35., 99., 16.], domain=[-1.,  1.], window=[-1.,  1.])"
      ]
     },
     "execution_count": 10,
     "metadata": {},
     "output_type": "execute_result"
    }
   ],
   "source": [
    "c2['a']"
   ]
  },
  {
   "cell_type": "markdown",
   "id": "e6fb3fc3-f048-4d76-b73e-7363deabc90e",
   "metadata": {},
   "source": [
    "## 5. Evaluation & Decrypt"
   ]
  },
  {
   "cell_type": "markdown",
   "id": "05b5aca9-ac78-46bf-be0b-62a01db0fc86",
   "metadata": {},
   "source": [
    "### 5.1 Addition"
   ]
  },
  {
   "cell_type": "code",
   "execution_count": 11,
   "id": "63a2548e-0052-4745-bba4-8491e8bc94d7",
   "metadata": {},
   "outputs": [
    {
     "data": {
      "text/plain": [
       "{'b': Polynomial([ 1211.,  -959., -2792., -3257.], domain=[-1.,  1.], window=[-1.,  1.]),\n",
       " 'a': Polynomial([135., 101., 141.,  96.], domain=[-1.,  1.], window=[-1.,  1.])}"
      ]
     },
     "execution_count": 11,
     "metadata": {},
     "output_type": "execute_result"
    }
   ],
   "source": [
    "# Evaluation (add)\n",
    "c_add = ckks2.HE_add(c1, c2)\n",
    "c_add"
   ]
  },
  {
   "cell_type": "markdown",
   "id": "45f6fdc1-9a60-423f-99ad-4c16e139d555",
   "metadata": {},
   "source": [
    "### 5.2 Multiplication"
   ]
  },
  {
   "cell_type": "code",
   "execution_count": 12,
   "id": "3018efbc-433e-4371-a0bc-d95685367781",
   "metadata": {},
   "outputs": [
    {
     "data": {
      "text/plain": [
       "(Polynomial([ -72231., -313738., -315826., -175066.], domain=[-1.,  1.], window=[-1.,  1.]),\n",
       " Polynomial([16024., 18397.,  2194., -4794.], domain=[-1.,  1.], window=[-1.,  1.]))"
      ]
     },
     "execution_count": 12,
     "metadata": {},
     "output_type": "execute_result"
    }
   ],
   "source": [
    "# Evaluation (mult)\n",
    "c_mult = ckks2.HE_mult(p2, c1)\n",
    "c_mult"
   ]
  },
  {
   "cell_type": "markdown",
   "id": "0e66d9a1-a2d0-49c0-9910-a65c9d584184",
   "metadata": {},
   "source": [
    "## 6. Decrypt"
   ]
  },
  {
   "cell_type": "code",
   "execution_count": 13,
   "id": "fb10e992-027b-4062-a818-fd9425e10cd1",
   "metadata": {},
   "outputs": [
    {
     "data": {
      "text/latex": [
       "$x \\mapsto \\text{272.0} + \\text{70.0}\\,x + \\text{43.0}\\,x^{2} - \\text{12.0}\\,x^{3}$"
      ],
      "text/plain": [
       "Polynomial([272.,  70.,  43., -12.], domain=[-1.,  1.], window=[-1.,  1.])"
      ]
     },
     "execution_count": 13,
     "metadata": {},
     "output_type": "execute_result"
    }
   ],
   "source": [
    "# Decrypt c_add\n",
    "add_decrypt = ckks2.add_decrypt(c_add)\n",
    "add_decrypt"
   ]
  },
  {
   "cell_type": "code",
   "execution_count": 14,
   "id": "eec18de0-7c57-4fc5-b218-45523a55b78f",
   "metadata": {},
   "outputs": [
    {
     "data": {
      "text/latex": [
       "$x \\mapsto \\text{696.59375} + \\text{359.796875}\\,x - \\text{61.828125}\\,x^{2} - \\text{337.734375}\\,x^{3}$"
      ],
      "text/plain": [
       "Polynomial([ 696.59375 ,  359.796875,  -61.828125, -337.734375], domain=[-1.,  1.], window=[-1.,  1.])"
      ]
     },
     "execution_count": 14,
     "metadata": {},
     "output_type": "execute_result"
    }
   ],
   "source": [
    "# Decrypt c_mult\n",
    "mult_decrypt = ckks2.mult_decrept(c_mult)\n",
    "mult_decrypt"
   ]
  },
  {
   "cell_type": "markdown",
   "id": "f3eff5c2-5b1d-4f8e-b3b9-6ba09dfebc46",
   "metadata": {},
   "source": [
    "## 7. Decode"
   ]
  },
  {
   "cell_type": "code",
   "execution_count": 15,
   "id": "0aa9303c-485c-4ad8-bdaf-9ab0eb22aacb",
   "metadata": {},
   "outputs": [
    {
     "data": {
      "text/plain": [
       "array([5.15598056+1.31269052j, 3.34401944-0.03105948j])"
      ]
     },
     "execution_count": 15,
     "metadata": {},
     "output_type": "execute_result"
    }
   ],
   "source": [
    "add_decode = ckks2.decode(add_decrypt)\n",
    "add_decode"
   ]
  },
  {
   "cell_type": "code",
   "execution_count": 16,
   "id": "d1ef9f5a-00df-4d1d-a443-ea0a1f6d907a",
   "metadata": {},
   "outputs": [
    {
     "data": {
      "text/plain": [
       "array([18.59098167-0.72230596j,  3.17757302+1.20982294j])"
      ]
     },
     "execution_count": 16,
     "metadata": {},
     "output_type": "execute_result"
    }
   ],
   "source": [
    "mult_decode = ckks2.decode(mult_decrypt)\n",
    "mult_decode"
   ]
  },
  {
   "cell_type": "markdown",
   "id": "4c779173-fa13-46ec-9b8f-2b855d50d96a",
   "metadata": {},
   "source": [
    "## 8. Comparison"
   ]
  },
  {
   "cell_type": "markdown",
   "id": "6801b0e7-c035-47a0-bfa9-db8b01cafb1c",
   "metadata": {},
   "source": [
    "### 8.1 Addition"
   ]
  },
  {
   "cell_type": "code",
   "execution_count": 17,
   "id": "2b951223-1f2d-4533-a8fc-f8e51a916e4e",
   "metadata": {},
   "outputs": [
    {
     "data": {
      "text/plain": [
       "array([5.+1.j, 3.+0.j])"
      ]
     },
     "execution_count": 17,
     "metadata": {},
     "output_type": "execute_result"
    }
   ],
   "source": [
    "# Actual addition\n",
    "z1 + z2"
   ]
  },
  {
   "cell_type": "code",
   "execution_count": 18,
   "id": "2bacc4b9-f09b-4752-8ff6-0cb84bc59bd8",
   "metadata": {},
   "outputs": [
    {
     "data": {
      "text/plain": [
       "array([5.15598056+1.31269052j, 3.34401944-0.03105948j])"
      ]
     },
     "execution_count": 18,
     "metadata": {},
     "output_type": "execute_result"
    }
   ],
   "source": [
    "# Homomorphic addition\n",
    "add_decode"
   ]
  },
  {
   "cell_type": "markdown",
   "id": "26dada46-3d4a-4bcb-adf5-1c88ddd7f76c",
   "metadata": {},
   "source": [
    "### 8.2 Multiplication"
   ]
  },
  {
   "cell_type": "code",
   "execution_count": 19,
   "id": "3144db87-7fac-4e52-9fe2-ebba6ae522e9",
   "metadata": {
    "tags": []
   },
   "outputs": [
    {
     "data": {
      "text/plain": [
       "array([18.-1.j,  3.+1.j])"
      ]
     },
     "execution_count": 19,
     "metadata": {},
     "output_type": "execute_result"
    }
   ],
   "source": [
    "# Actual multiplication\n",
    "z1 * z2"
   ]
  },
  {
   "cell_type": "code",
   "execution_count": 20,
   "id": "bf406b54-e167-407a-b26d-c0665481d33b",
   "metadata": {},
   "outputs": [
    {
     "data": {
      "text/plain": [
       "array([18.59098167-0.72230596j,  3.17757302+1.20982294j])"
      ]
     },
     "execution_count": 20,
     "metadata": {},
     "output_type": "execute_result"
    }
   ],
   "source": [
    "# Homomorphic multiplication\n",
    "mult_decode"
   ]
  },
  {
   "cell_type": "markdown",
   "id": "3ff12ef8-83c9-40e5-8b69-c0421b4b4cc7",
   "metadata": {},
   "source": [
    "---"
   ]
  }
 ],
 "metadata": {
  "kernelspec": {
   "display_name": "Python 3 (ipykernel)",
   "language": "python",
   "name": "python3"
  },
  "language_info": {
   "codemirror_mode": {
    "name": "ipython",
    "version": 3
   },
   "file_extension": ".py",
   "mimetype": "text/x-python",
   "name": "python",
   "nbconvert_exporter": "python",
   "pygments_lexer": "ipython3",
   "version": "3.8.10"
  }
 },
 "nbformat": 4,
 "nbformat_minor": 5
}
